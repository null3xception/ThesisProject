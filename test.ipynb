{
 "cells": [
  {
   "cell_type": "code",
   "execution_count": 1,
   "metadata": {},
   "outputs": [],
   "source": [
    "from thefuzz import fuzz\n",
    "\n",
    "symptoms = [\"Stunted Growth\", \"Dead Heart\", \"Dry Leaves\", \"Yellow Leaves\", \n",
    "            \"Wilting\", \"Broken Stems\", \"Lodging\", \"White Yellow Larvae\", \n",
    "            \"Hopper Burn\", \"Lower Yields\", \"Unfilled Grains\", \"Feeding Damage\", \n",
    "            \"Drying Panicles\"]\n",
    "\n",
    "\n",
    "Rice_Black_Bug = [\"Stunted Growth\", \"Dead Heart\", \"Dry Leaves\", \"Yellow Leaves\", \"Wilting\"]\n",
    "\n",
    "Stem_Borer = [\"Yellow Leaves\", \"Dead Heart\", \"Dry Leaves\", \"Broken Stems\", \"Lodging\", \"White Yellow Larvae\"]\n",
    "\n",
    "Green_Leaf_Hopper = [\"Yellow Leaves\", \"Dry Leaves\", \"Hopper Burn\", \"Stunted Growth\", \"Lower Yields\"]\n",
    "\n",
    "Brown_Plant_Hopper = [\"Stunted Growth\", \"Unfilled Grains\", \"Wilting\", \"Dry Leaves\", \"Hopper Burn\"]\n",
    "\n",
    "Rice_Bug = [\"Feeding Damage\", \"Unfilled Grains\", \"Stunted Growth\", \"Drying Panicles\"]\n",
    "\n"
   ]
  },
  {
   "cell_type": "code",
   "execution_count": 11,
   "metadata": {},
   "outputs": [
    {
     "name": "stdout",
     "output_type": "stream",
     "text": [
      "Pests with similar symptoms:\n",
      "Brown Plant Hopper: 100\n",
      "Rice Bug: 100\n"
     ]
    }
   ],
   "source": [
    "from thefuzz import fuzz\n",
    "\n",
    "#----------------------------KNOWLEDGE BASE------------------------------------------------------------------\n",
    "# Define the symptoms lists for each pest\n",
    "Rice_Black_Bug = [\"Stunted Growth\", \"Dead Heart\", \"Dry Leaves\", \"Yellow Leaves\", \"Wilting\"]\n",
    "Stem_Borer = [\"Yellow Leaves\", \"Dead Heart\", \"Dry Leaves\", \"Broken Stems\", \"Lodging\", \"White Yellow Larvae\"]\n",
    "Green_Leaf_Hopper = [\"Yellow Leaves\", \"Dry Leaves\", \"Hopper Burn\", \"Stunted Growth\", \"Lower Yields\"]\n",
    "Brown_Plant_Hopper = [\"Stunted Growth\", \"Unfilled Grains\", \"Wilting\", \"Dry Leaves\", \"Hopper Burn\"]\n",
    "Rice_Bug = [\"Feeding Damage\", \"Unfilled Grains\", \"Stunted Growth\", \"Drying Panicles\"]\n",
    "\n",
    "# A dictionary to hold the pests and their symptoms\n",
    "pests = {\n",
    "    \"Rice Black Bug\": Rice_Black_Bug,\n",
    "    \"Stem Borer\": Stem_Borer,\n",
    "    \"Green Leaf Hopper\": Green_Leaf_Hopper,\n",
    "    \"Brown Plant Hopper\": Brown_Plant_Hopper,\n",
    "    \"Rice Bug\": Rice_Bug\n",
    "}\n",
    "\n",
    "#-------------------------------INFERENCE ENGINE -------------------------------------------------------------\n",
    "def match_symptoms(symptoms, threshold=100):\n",
    "    results = {}\n",
    "    \n",
    "    for pest, pest_symptoms in pests.items():\n",
    "        score = fuzz.token_set_ratio(symptoms, pest_symptoms)\n",
    "        if score >= threshold:\n",
    "            results[pest] = score\n",
    "    \n",
    "    # Sort results by score in descending order\n",
    "    sorted_results = sorted(results.items(), key=lambda x: x[1], reverse=True)\n",
    "    return sorted_results\n",
    "\n",
    "# Example set of symptoms to match\n",
    "input_symptoms = [\"Unfilled Grains\"]\n",
    "\n",
    "matches = match_symptoms(input_symptoms)\n",
    "\n",
    "print(\"Pests with similar symptoms:\")\n",
    "for pest, score in matches:\n",
    "    print(f\"{pest}: {score}\")\n",
    "\n"
   ]
  }
 ],
 "metadata": {
  "kernelspec": {
   "display_name": "Python 3",
   "language": "python",
   "name": "python3"
  },
  "language_info": {
   "codemirror_mode": {
    "name": "ipython",
    "version": 3
   },
   "file_extension": ".py",
   "mimetype": "text/x-python",
   "name": "python",
   "nbconvert_exporter": "python",
   "pygments_lexer": "ipython3",
   "version": "3.11.0"
  }
 },
 "nbformat": 4,
 "nbformat_minor": 2
}
